{
 "cells": [
  {
   "cell_type": "code",
   "execution_count": 1,
   "metadata": {
    "collapsed": true
   },
   "outputs": [],
   "source": [
    "from xml.etree import ElementTree as ET\n",
    "import pandas as pd\n",
    "import numpy as np\n",
    "import operator\n",
    "import os"
   ]
  },
  {
   "cell_type": "code",
   "execution_count": 2,
   "metadata": {
    "collapsed": true
   },
   "outputs": [],
   "source": [
    "#Reading the file\n",
    "document = ET.parse( 'data_wrangling_xml\\data_wrangling_xml\\data\\mondial_database.xml' )\n",
    "root=document.getroot()"
   ]
  },
  {
   "cell_type": "code",
   "execution_count": 3,
   "metadata": {
    "collapsed": false
   },
   "outputs": [
    {
     "data": {
      "text/html": [
       "<div>\n",
       "<table border=\"1\" class=\"dataframe\">\n",
       "  <thead>\n",
       "    <tr style=\"text-align: right;\">\n",
       "      <th></th>\n",
       "      <th>country</th>\n",
       "      <th>infant_mortality</th>\n",
       "    </tr>\n",
       "  </thead>\n",
       "  <tbody>\n",
       "    <tr>\n",
       "      <th>36</th>\n",
       "      <td>Monaco</td>\n",
       "      <td>1.81</td>\n",
       "    </tr>\n",
       "    <tr>\n",
       "      <th>90</th>\n",
       "      <td>Japan</td>\n",
       "      <td>2.13</td>\n",
       "    </tr>\n",
       "    <tr>\n",
       "      <th>109</th>\n",
       "      <td>Bermuda</td>\n",
       "      <td>2.48</td>\n",
       "    </tr>\n",
       "    <tr>\n",
       "      <th>34</th>\n",
       "      <td>Norway</td>\n",
       "      <td>2.48</td>\n",
       "    </tr>\n",
       "    <tr>\n",
       "      <th>98</th>\n",
       "      <td>Singapore</td>\n",
       "      <td>2.53</td>\n",
       "    </tr>\n",
       "    <tr>\n",
       "      <th>35</th>\n",
       "      <td>Sweden</td>\n",
       "      <td>2.60</td>\n",
       "    </tr>\n",
       "    <tr>\n",
       "      <th>8</th>\n",
       "      <td>Czech Republic</td>\n",
       "      <td>2.63</td>\n",
       "    </tr>\n",
       "    <tr>\n",
       "      <th>72</th>\n",
       "      <td>Hong Kong</td>\n",
       "      <td>2.73</td>\n",
       "    </tr>\n",
       "    <tr>\n",
       "      <th>73</th>\n",
       "      <td>Macao</td>\n",
       "      <td>3.13</td>\n",
       "    </tr>\n",
       "    <tr>\n",
       "      <th>39</th>\n",
       "      <td>Iceland</td>\n",
       "      <td>3.15</td>\n",
       "    </tr>\n",
       "  </tbody>\n",
       "</table>\n",
       "</div>"
      ],
      "text/plain": [
       "            country  infant_mortality\n",
       "36           Monaco              1.81\n",
       "90            Japan              2.13\n",
       "109         Bermuda              2.48\n",
       "34           Norway              2.48\n",
       "98        Singapore              2.53\n",
       "35           Sweden              2.60\n",
       "8    Czech Republic              2.63\n",
       "72        Hong Kong              2.73\n",
       "73            Macao              3.13\n",
       "39          Iceland              3.15"
      ]
     },
     "execution_count": 3,
     "metadata": {},
     "output_type": "execute_result"
    }
   ],
   "source": [
    "#Excercise 1: countries with the lowest infant mortality rates\n",
    "\n",
    "#defining a dictionary \n",
    "country_mortality_dict  = {}\n",
    "country_mortality_dict['country']=[]\n",
    "country_mortality_dict['infant_mortality']=[]\n",
    "\n",
    "#Iterating and finding in country\n",
    "for country in document.iterfind('country'):\n",
    "    mortality = country.find('infant_mortality')\n",
    "    \n",
    "    if mortality is not None:\n",
    "        country_mortality_dict['country'].append(country.find('name').text)\n",
    "        country_mortality_dict['infant_mortality'].append(float(mortality.text))\n",
    "        \n",
    "#creating dataframe of the above dict\n",
    "df = pd.DataFrame(country_mortality_dict, columns=['country', 'infant_mortality'])\n",
    "\n",
    "#Sorting mortality rates\n",
    "df.sort_values('infant_mortality').head(10)"
   ]
  },
  {
   "cell_type": "code",
   "execution_count": 4,
   "metadata": {
    "collapsed": false
   },
   "outputs": [
    {
     "data": {
      "text/html": [
       "<div>\n",
       "<table border=\"1\" class=\"dataframe\">\n",
       "  <thead>\n",
       "    <tr style=\"text-align: right;\">\n",
       "      <th></th>\n",
       "      <th>City_Name</th>\n",
       "      <th>Population_2011</th>\n",
       "    </tr>\n",
       "  </thead>\n",
       "  <tbody>\n",
       "    <tr>\n",
       "      <th>1527</th>\n",
       "      <td>Mumbai</td>\n",
       "      <td>12442373.0</td>\n",
       "    </tr>\n",
       "    <tr>\n",
       "      <th>1582</th>\n",
       "      <td>Delhi</td>\n",
       "      <td>11034555.0</td>\n",
       "    </tr>\n",
       "    <tr>\n",
       "      <th>1515</th>\n",
       "      <td>Bangalore</td>\n",
       "      <td>8443675.0</td>\n",
       "    </tr>\n",
       "    <tr>\n",
       "      <th>1000</th>\n",
       "      <td>London</td>\n",
       "      <td>8250205.0</td>\n",
       "    </tr>\n",
       "    <tr>\n",
       "      <th>1382</th>\n",
       "      <td>Tehran</td>\n",
       "      <td>8154051.0</td>\n",
       "    </tr>\n",
       "    <tr>\n",
       "      <th>1470</th>\n",
       "      <td>Dhaka</td>\n",
       "      <td>7423137.0</td>\n",
       "    </tr>\n",
       "    <tr>\n",
       "      <th>1591</th>\n",
       "      <td>Hyderabad</td>\n",
       "      <td>6731790.0</td>\n",
       "    </tr>\n",
       "    <tr>\n",
       "      <th>1505</th>\n",
       "      <td>Ahmadabad</td>\n",
       "      <td>5577940.0</td>\n",
       "    </tr>\n",
       "    <tr>\n",
       "      <th>3056</th>\n",
       "      <td>Luanda</td>\n",
       "      <td>5000000.0</td>\n",
       "    </tr>\n",
       "    <tr>\n",
       "      <th>1556</th>\n",
       "      <td>Chennai</td>\n",
       "      <td>4646732.0</td>\n",
       "    </tr>\n",
       "  </tbody>\n",
       "</table>\n",
       "</div>"
      ],
      "text/plain": [
       "      City_Name  Population_2011\n",
       "1527     Mumbai       12442373.0\n",
       "1582      Delhi       11034555.0\n",
       "1515  Bangalore        8443675.0\n",
       "1000     London        8250205.0\n",
       "1382     Tehran        8154051.0\n",
       "1470      Dhaka        7423137.0\n",
       "1591  Hyderabad        6731790.0\n",
       "1505  Ahmadabad        5577940.0\n",
       "3056     Luanda        5000000.0\n",
       "1556    Chennai        4646732.0"
      ]
     },
     "execution_count": 4,
     "metadata": {},
     "output_type": "execute_result"
    }
   ],
   "source": [
    "#Excercise 2: 10 cities with the largest population\n",
    "\n",
    "#defining a list\n",
    "CityList = []\n",
    "\n",
    "for city in document.findall('.//city'):\n",
    "    name = city.find('name')\n",
    "    name = name.text\n",
    "    population = city.find('population[@year=\"2011\"]') \n",
    "    \n",
    "    if population is None:\n",
    "        population = np.nan\n",
    "    else:\n",
    "        population = int(population.text)\n",
    "        \n",
    "#creating the list     \n",
    "    CityList.append([name, population])\n",
    " \n",
    " #creating dataframe\n",
    "df = pd.DataFrame(CityList, columns=['City_Name','Population_2011'])\n",
    "\n",
    "#sorting\n",
    "df.sort_values('Population_2011', ascending=False).head(10)"
   ]
  },
  {
   "cell_type": "code",
   "execution_count": 5,
   "metadata": {
    "collapsed": false
   },
   "outputs": [
    {
     "data": {
      "text/html": [
       "<div>\n",
       "<table border=\"1\" class=\"dataframe\">\n",
       "  <thead>\n",
       "    <tr style=\"text-align: right;\">\n",
       "      <th></th>\n",
       "      <th>ethnicgrp1</th>\n",
       "      <th>ethnicpop</th>\n",
       "    </tr>\n",
       "  </thead>\n",
       "  <tbody>\n",
       "    <tr>\n",
       "      <th>0</th>\n",
       "      <td>Indo-Aryan</td>\n",
       "      <td>871815583</td>\n",
       "    </tr>\n",
       "    <tr>\n",
       "      <th>1</th>\n",
       "      <td>Dravidian</td>\n",
       "      <td>302713744</td>\n",
       "    </tr>\n",
       "    <tr>\n",
       "      <th>2</th>\n",
       "      <td>African</td>\n",
       "      <td>166391980</td>\n",
       "    </tr>\n",
       "    <tr>\n",
       "      <th>3</th>\n",
       "      <td>Bengali</td>\n",
       "      <td>146776916</td>\n",
       "    </tr>\n",
       "    <tr>\n",
       "      <th>4</th>\n",
       "      <td>German</td>\n",
       "      <td>74278483</td>\n",
       "    </tr>\n",
       "    <tr>\n",
       "      <th>5</th>\n",
       "      <td>English</td>\n",
       "      <td>52820300</td>\n",
       "    </tr>\n",
       "    <tr>\n",
       "      <th>6</th>\n",
       "      <td>Mediterranean Nordic</td>\n",
       "      <td>46815916</td>\n",
       "    </tr>\n",
       "    <tr>\n",
       "      <th>7</th>\n",
       "      <td>Persian</td>\n",
       "      <td>38326331</td>\n",
       "    </tr>\n",
       "    <tr>\n",
       "      <th>8</th>\n",
       "      <td>Polish</td>\n",
       "      <td>38018418</td>\n",
       "    </tr>\n",
       "    <tr>\n",
       "      <th>9</th>\n",
       "      <td>Mongol</td>\n",
       "      <td>36325649</td>\n",
       "    </tr>\n",
       "  </tbody>\n",
       "</table>\n",
       "</div>"
      ],
      "text/plain": [
       "             ethnicgrp1  ethnicpop\n",
       "0            Indo-Aryan  871815583\n",
       "1             Dravidian  302713744\n",
       "2               African  166391980\n",
       "3               Bengali  146776916\n",
       "4                German   74278483\n",
       "5               English   52820300\n",
       "6  Mediterranean Nordic   46815916\n",
       "7               Persian   38326331\n",
       "8                Polish   38018418\n",
       "9                Mongol   36325649"
      ]
     },
     "execution_count": 5,
     "metadata": {},
     "output_type": "execute_result"
    }
   ],
   "source": [
    "#Excercise 3: 10 ethnic groups with the largest overall populations (sum of best/latest estimates over all countries)\n",
    "\n",
    "#defining a list\n",
    "data=[]\n",
    "for country in document.findall('country'):\n",
    "    countryname=country.find('name').text\n",
    "    totalpop=country.find('population[@year=\"2011\"]')\n",
    "    if totalpop is None:\n",
    "        totalpop = np.nan\n",
    "    else:\n",
    "        totalpop = int(totalpop.text)\n",
    "       \n",
    "        \n",
    "        for ethnicgrp in country.findall('ethnicgroup'):\n",
    "            ethnicgrp1=ethnicgrp.text\n",
    "            percent = float(ethnicgrp.attrib['percentage'])\n",
    "            epop = int(totalpop * percent / 100)            \n",
    "          \n",
    "            \n",
    "#creating the list            \n",
    "            data.append([countryname,totalpop,ethnicgrp1,epop])\n",
    "    \n",
    "#creating dataframe\n",
    "df=pd.DataFrame(data,columns=['countryname','totalpop','ethnicgrp1','ethnicpop'])\n",
    "\n",
    "#sorting and assigning the value to a var\n",
    "df11=df.groupby('ethnicgrp1').ethnicpop.sum().sort_values(ascending=False).reset_index().head(10)\n",
    "\n",
    "#reading the var\n",
    "df11"
   ]
  },
  {
   "cell_type": "code",
   "execution_count": 6,
   "metadata": {
    "collapsed": false
   },
   "outputs": [
    {
     "data": {
      "text/html": [
       "<div>\n",
       "<table border=\"1\" class=\"dataframe\">\n",
       "  <thead>\n",
       "    <tr style=\"text-align: right;\">\n",
       "      <th></th>\n",
       "      <th>rivername</th>\n",
       "      <th>riverlength</th>\n",
       "      <th>country</th>\n",
       "    </tr>\n",
       "  </thead>\n",
       "  <tbody>\n",
       "    <tr>\n",
       "      <th>300</th>\n",
       "      <td>Amazonas</td>\n",
       "      <td>6448.0</td>\n",
       "      <td>Peru</td>\n",
       "    </tr>\n",
       "  </tbody>\n",
       "</table>\n",
       "</div>"
      ],
      "text/plain": [
       "    rivername  riverlength country\n",
       "300  Amazonas       6448.0    Peru"
      ]
     },
     "execution_count": 6,
     "metadata": {},
     "output_type": "execute_result"
    }
   ],
   "source": [
    "#Excercise 4: name and country of a) longest river\n",
    "\n",
    "countrycode_dict={}\n",
    "for country in document.iterfind('country'):\n",
    "    countrycode_dict[country.get('car_code')] = country.find('name').text\n",
    "  \n",
    "    \n",
    "riverlist=[]\n",
    "for rivername in document.iterfind('river'):\n",
    "    for country in rivername.get('country').split():\n",
    "        rivername1=rivername.find('name').text\n",
    "        riverlength=rivername.find('length')\n",
    "        if riverlength==None:\n",
    "            riverlength=np.nan\n",
    "        else:        \n",
    "            riverlength=float(riverlength.text)\n",
    "    \n",
    "#creating the list\n",
    "        riverlist.append([rivername1,riverlength,countrycode_dict[country]])\n",
    "\n",
    "df = pd.DataFrame(riverlist, columns=['rivername','riverlength','country'])\n",
    "\n",
    "#sorting and assigning the value to a var\n",
    "df1=df.sort_values('riverlength',ascending=False).head(1)\n",
    "\n",
    "#reading the var\n",
    "df1"
   ]
  },
  {
   "cell_type": "code",
   "execution_count": 7,
   "metadata": {
    "collapsed": false
   },
   "outputs": [
    {
     "data": {
      "text/html": [
       "<div>\n",
       "<table border=\"1\" class=\"dataframe\">\n",
       "  <thead>\n",
       "    <tr style=\"text-align: right;\">\n",
       "      <th></th>\n",
       "      <th>lakename</th>\n",
       "      <th>lakearea</th>\n",
       "      <th>country</th>\n",
       "    </tr>\n",
       "  </thead>\n",
       "  <tbody>\n",
       "    <tr>\n",
       "      <th>68</th>\n",
       "      <td>Caspian Sea</td>\n",
       "      <td>386400.0</td>\n",
       "      <td>Russia</td>\n",
       "    </tr>\n",
       "  </tbody>\n",
       "</table>\n",
       "</div>"
      ],
      "text/plain": [
       "       lakename  lakearea country\n",
       "68  Caspian Sea  386400.0  Russia"
      ]
     },
     "execution_count": 7,
     "metadata": {},
     "output_type": "execute_result"
    }
   ],
   "source": [
    "#Excercise 4: name and country of b) largest lake\n",
    "countrycode_dict={}\n",
    "for country in document.iterfind('country'):\n",
    "    countrycode_dict[country.get('car_code')] = country.find('name').text\n",
    "  \n",
    "    \n",
    "lakelist=[]\n",
    "for lakename in document.iterfind('lake'):\n",
    "    for country in lakename.get('country').split():\n",
    "        lakename1=lakename.find('name').text\n",
    "        lakearea=lakename.find('area')\n",
    "        if lakearea==None:\n",
    "            lakearea=np.nan\n",
    "        else:        \n",
    "            lakearea=float(lakearea.text)\n",
    "    \n",
    "    \n",
    "#creating the list\n",
    "        lakelist.append([lakename1,lakearea,countrycode_dict[country]])\n",
    "    \n",
    "#creating DF\n",
    "df = pd.DataFrame(lakelist, columns=['lakename','lakearea','country'])\n",
    "\n",
    "#sorting and assigning the value to a var\n",
    "df1=df.sort_values('lakearea',ascending=False).head(1)\n",
    "\n",
    "#reading the var\n",
    "df1"
   ]
  },
  {
   "cell_type": "code",
   "execution_count": 8,
   "metadata": {
    "collapsed": false
   },
   "outputs": [
    {
     "name": "stderr",
     "output_type": "stream",
     "text": [
      "C:\\Users\\bkurmi\\AppData\\Local\\Continuum\\Anaconda3\\lib\\site-packages\\ipykernel\\__main__.py:15: FutureWarning: sort(columns=....) is deprecated, use sort_values(by=.....)\n"
     ]
    },
    {
     "data": {
      "text/html": [
       "<div>\n",
       "<table border=\"1\" class=\"dataframe\">\n",
       "  <thead>\n",
       "    <tr style=\"text-align: right;\">\n",
       "      <th></th>\n",
       "      <th>Name</th>\n",
       "      <th>elevation</th>\n",
       "    </tr>\n",
       "  </thead>\n",
       "  <tbody>\n",
       "    <tr>\n",
       "      <th>80</th>\n",
       "      <td>El Alto Intl</td>\n",
       "      <td>4063</td>\n",
       "    </tr>\n",
       "  </tbody>\n",
       "</table>\n",
       "</div>"
      ],
      "text/plain": [
       "            Name  elevation\n",
       "80  El Alto Intl       4063"
      ]
     },
     "execution_count": 8,
     "metadata": {},
     "output_type": "execute_result"
    }
   ],
   "source": [
    "#Excercise 4: name and country of c) airport at highest elevation\n",
    "\n",
    "#defining a list & DF\n",
    "airport_list=[]\n",
    "airport_df = pd.DataFrame()\n",
    "\n",
    "for ap in document.iterfind('airport'):\n",
    "    apname=ap.find('name').text\n",
    "    elv=ap.find('elevation').text  \n",
    "    \n",
    "     \n",
    "    try:\n",
    "        airport_list.append({'Name':apname, 'elevation':int(elv)})\n",
    "                \n",
    "    except:\n",
    "         next\n",
    "            \n",
    "#creating DF\n",
    "airport_df = pd.DataFrame(airport_list)\n",
    "\n",
    "#sorting\n",
    "airport_df.sort('elevation', ascending=False).head(1)"
   ]
  },
  {
   "cell_type": "code",
   "execution_count": null,
   "metadata": {
    "collapsed": true
   },
   "outputs": [],
   "source": []
  }
 ],
 "metadata": {
  "kernelspec": {
   "display_name": "Python 3",
   "language": "python",
   "name": "python3"
  },
  "language_info": {
   "codemirror_mode": {
    "name": "ipython",
    "version": 3
   },
   "file_extension": ".py",
   "mimetype": "text/x-python",
   "name": "python",
   "nbconvert_exporter": "python",
   "pygments_lexer": "ipython3",
   "version": "3.6.0"
  }
 },
 "nbformat": 4,
 "nbformat_minor": 2
}
